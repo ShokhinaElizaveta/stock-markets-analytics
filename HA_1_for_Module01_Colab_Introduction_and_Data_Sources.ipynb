{
  "nbformat": 4,
  "nbformat_minor": 0,
  "metadata": {
    "colab": {
      "provenance": []
    },
    "kernelspec": {
      "name": "python3",
      "display_name": "Python 3"
    },
    "language_info": {
      "name": "python"
    }
  },
  "cells": [
    {
      "cell_type": "code",
      "source": [
        "# install main library YFinance\n",
        "!pip install yfinance"
      ],
      "metadata": {
        "colab": {
          "base_uri": "https://localhost:8080/"
        },
        "id": "7_BfcEi2ZQwz",
        "outputId": "e030fc6f-caac-43b7-f0ef-c42dddf05cb6"
      },
      "execution_count": 75,
      "outputs": [
        {
          "output_type": "stream",
          "name": "stdout",
          "text": [
            "Requirement already satisfied: yfinance in /usr/local/lib/python3.10/dist-packages (0.2.38)\n",
            "Requirement already satisfied: pandas>=1.3.0 in /usr/local/lib/python3.10/dist-packages (from yfinance) (2.0.3)\n",
            "Requirement already satisfied: numpy>=1.16.5 in /usr/local/lib/python3.10/dist-packages (from yfinance) (1.25.2)\n",
            "Requirement already satisfied: requests>=2.31 in /usr/local/lib/python3.10/dist-packages (from yfinance) (2.31.0)\n",
            "Requirement already satisfied: multitasking>=0.0.7 in /usr/local/lib/python3.10/dist-packages (from yfinance) (0.0.11)\n",
            "Requirement already satisfied: lxml>=4.9.1 in /usr/local/lib/python3.10/dist-packages (from yfinance) (4.9.4)\n",
            "Requirement already satisfied: appdirs>=1.4.4 in /usr/local/lib/python3.10/dist-packages (from yfinance) (1.4.4)\n",
            "Requirement already satisfied: pytz>=2022.5 in /usr/local/lib/python3.10/dist-packages (from yfinance) (2023.4)\n",
            "Requirement already satisfied: frozendict>=2.3.4 in /usr/local/lib/python3.10/dist-packages (from yfinance) (2.4.2)\n",
            "Requirement already satisfied: peewee>=3.16.2 in /usr/local/lib/python3.10/dist-packages (from yfinance) (3.17.3)\n",
            "Requirement already satisfied: beautifulsoup4>=4.11.1 in /usr/local/lib/python3.10/dist-packages (from yfinance) (4.12.3)\n",
            "Requirement already satisfied: html5lib>=1.1 in /usr/local/lib/python3.10/dist-packages (from yfinance) (1.1)\n",
            "Requirement already satisfied: soupsieve>1.2 in /usr/local/lib/python3.10/dist-packages (from beautifulsoup4>=4.11.1->yfinance) (2.5)\n",
            "Requirement already satisfied: six>=1.9 in /usr/local/lib/python3.10/dist-packages (from html5lib>=1.1->yfinance) (1.16.0)\n",
            "Requirement already satisfied: webencodings in /usr/local/lib/python3.10/dist-packages (from html5lib>=1.1->yfinance) (0.5.1)\n",
            "Requirement already satisfied: python-dateutil>=2.8.2 in /usr/local/lib/python3.10/dist-packages (from pandas>=1.3.0->yfinance) (2.8.2)\n",
            "Requirement already satisfied: tzdata>=2022.1 in /usr/local/lib/python3.10/dist-packages (from pandas>=1.3.0->yfinance) (2024.1)\n",
            "Requirement already satisfied: charset-normalizer<4,>=2 in /usr/local/lib/python3.10/dist-packages (from requests>=2.31->yfinance) (3.3.2)\n",
            "Requirement already satisfied: idna<4,>=2.5 in /usr/local/lib/python3.10/dist-packages (from requests>=2.31->yfinance) (3.7)\n",
            "Requirement already satisfied: urllib3<3,>=1.21.1 in /usr/local/lib/python3.10/dist-packages (from requests>=2.31->yfinance) (2.0.7)\n",
            "Requirement already satisfied: certifi>=2017.4.17 in /usr/local/lib/python3.10/dist-packages (from requests>=2.31->yfinance) (2024.2.2)\n"
          ]
        }
      ]
    },
    {
      "cell_type": "code",
      "source": [
        "# IMPORTS\n",
        "import numpy as np\n",
        "import pandas as pd\n",
        "\n",
        "#Fin Data Sources\n",
        "import yfinance as yf\n",
        "import pandas_datareader as pdr\n",
        "\n",
        "import time\n",
        "from datetime import date\n"
      ],
      "metadata": {
        "id": "upIkgS85ZLbF"
      },
      "execution_count": 76,
      "outputs": []
    },
    {
      "cell_type": "markdown",
      "source": [
        "# Question 1 Average growth of GDP in 2023"
      ],
      "metadata": {
        "id": "6ViP-zLIGD4H"
      }
    },
    {
      "cell_type": "code",
      "source": [
        "start_1 = date(year=2022, month=1, day=1)\n",
        "\n",
        "# Download the timeseries Real Gross Domestic Product (GDPC1) from FRED (https://fred.stlouisfed.org/series/GDPC1)\n",
        "gdpc1 = pdr.DataReader(\"GDPC1\", \"fred\", start=start_1)\n",
        "\n",
        "# Calculate year-over-year (YoY) growth rate (that is, divide current value to one 4 quarters ago)\n",
        "gdpc1['gdpc1_us_yoy'] = gdpc1.GDPC1/gdpc1.GDPC1.shift(4)-1\n",
        "\n",
        "# Find the average YoY growth in 2023 (average from 4 YoY numbers). Round to 1 digit after the decimal point: e.g. if you get 5.66% growth => you should answer 5.7\n",
        "gdpc1.gdpc1_us_yoy.mean().round(3)"
      ],
      "metadata": {
        "id": "J6tK5TVT_-wR",
        "outputId": "0e34a4d1-aee3-4474-980d-7bb01f4a5cea",
        "colab": {
          "base_uri": "https://localhost:8080/"
        }
      },
      "execution_count": 77,
      "outputs": [
        {
          "output_type": "execute_result",
          "data": {
            "text/plain": [
              "0.025"
            ]
          },
          "metadata": {},
          "execution_count": 77
        }
      ]
    },
    {
      "cell_type": "markdown",
      "source": [
        "# Question 2. Inverse \"Treasury Yield\""
      ],
      "metadata": {
        "id": "y35wisKYGbD7"
      }
    },
    {
      "cell_type": "code",
      "source": [
        "start_2 = date(year=2000, month=1, day=1)\n",
        "\n",
        "# Download DGS2 and DGS10 interest rates series (https://fred.stlouisfed.org/series/DGS2, https://fred.stlouisfed.org/series/DGS10)\n",
        "dgs2 = pdr.DataReader(\"DGS2\", \"fred\", start=start_2)\n",
        "dgs10 = pdr.DataReader(\"DGS10\", \"fred\", start=start_2)\n",
        "\n",
        "# Join them together to one dataframe on date (you might need to read about pandas.DataFrame.join())\n",
        "dgs2 = dgs2.join(dgs10)\n",
        "\n",
        "# Calculate the difference dgs10-dgs2 daily.\n",
        "dgs2['diff_DGS10_DGS2'] = dgs2.DGS10 - dgs2.DGS2\n",
        "\n",
        "# Find the min value of (dgs10-dgs2) after since year 2000 (2000-01-01) and write it down as an answer, round to 1 digit after the decimal point.\n",
        "dgs2.diff_DGS10_DGS2.min().round(1)"
      ],
      "metadata": {
        "id": "AKfXlx1CFYEq",
        "outputId": "e4462dc0-7224-4c40-a717-4df68e109d5f",
        "colab": {
          "base_uri": "https://localhost:8080/"
        }
      },
      "execution_count": 78,
      "outputs": [
        {
          "output_type": "execute_result",
          "data": {
            "text/plain": [
              "-1.1"
            ]
          },
          "metadata": {},
          "execution_count": 78
        }
      ]
    },
    {
      "cell_type": "markdown",
      "source": [
        "# Question 3. Which Index is better recently?"
      ],
      "metadata": {
        "id": "_htH6LYgONzF"
      }
    },
    {
      "cell_type": "code",
      "source": [
        "# Download two daily index prices for S&P 500 (^GSPC, https://finance.yahoo.com/quote/%5EGSPC/) and IPC Mexico (^MXX, https://finance.yahoo.com/quote/%5EMXX/)\n",
        "sp500_daily = yf.download(tickers = \"^GSPC\",\n",
        "                          start = \"2019-04-09\",\n",
        "                          end = \"2024-04-09\",\n",
        "                          interval = \"1d\")\n",
        "ipcm_daily = yf.download(tickers = \"^MXX\",\n",
        "                         start = \"2019-04-09\",\n",
        "                         end = \"2024-04-09\",\n",
        "                         interval = \"1d\")\n",
        "\n",
        "# Compare 5Y growth for both (between 2019-04-09 and 2024-04-09)\n",
        "growth_sp500 = sp500_daily['Adj Close'][-1] / sp500_daily['Adj Close'][0] - 1\n",
        "growth_ipcm = ipcm_daily['Adj Close'][-1] / ipcm_daily['Adj Close'][0] - 1\n",
        "\n",
        "# Select the higher growing index and write down the growth in % (closest integer %).\n",
        "max(growth_sp500.round(2) * 100, growth_ipcm.round(2) * 100)"
      ],
      "metadata": {
        "id": "Mwfd-DkZONUv",
        "outputId": "d71f9bd1-8d55-492c-ee6f-14aca477a6e4",
        "colab": {
          "base_uri": "https://localhost:8080/"
        }
      },
      "execution_count": 79,
      "outputs": [
        {
          "output_type": "stream",
          "name": "stderr",
          "text": [
            "[*********************100%%**********************]  1 of 1 completed\n",
            "[*********************100%%**********************]  1 of 1 completed\n"
          ]
        },
        {
          "output_type": "execute_result",
          "data": {
            "text/plain": [
              "81.0"
            ]
          },
          "metadata": {},
          "execution_count": 79
        }
      ]
    },
    {
      "cell_type": "markdown",
      "source": [
        "# Question 4. 52-weeks range ratio (2023) for the selected stocks"
      ],
      "metadata": {
        "id": "DKArgTMdXD3e"
      }
    },
    {
      "cell_type": "code",
      "source": [
        "# Download the 2023 daily OHLCV data on Yahoo Finance for top6 stocks on earnings (https://companiesmarketcap.com/most-profitable-companies/): 2222.SR,BRK-B, AAPL, MSFT, GOOG, JPM.\n",
        "stocks_daily_4 = yf.download(tickers = \"2222.SR BRK-B AAPL MSFT GOOG JPM\",\n",
        "                           start = \"2023-01-01\",\n",
        "                           end = \"2023-12-31\",\n",
        "                           interval = \"1d\",\n",
        "                           group_by = 'tickers')\n",
        "\n",
        "\n",
        "# Calculate maximum-minimim \"Adj.Close\" price for each stock and divide it by the maximum \"Adj.Close\" value. Round the result to two decimal places (e.g. 0.1575 will be 0.16)\n",
        "SR_range_ratio = ((stocks_daily_4[\"2222.SR\"][\"Adj Close\"].max() - stocks_daily_4[\"2222.SR\"][\"Adj Close\"].min()) / stocks_daily_4[\"2222.SR\"][\"Adj Close\"].max()).round(2)\n",
        "BRKB_range_ratio = ((stocks_daily_4[\"BRK-B\"][\"Adj Close\"].max() - stocks_daily_4[\"BRK-B\"][\"Adj Close\"].min()) / stocks_daily_4[\"BRK-B\"][\"Adj Close\"].max()).round(2)\n",
        "AAPL_range_ratio = ((stocks_daily_4[\"AAPL\"][\"Adj Close\"].max() - stocks_daily_4[\"AAPL\"][\"Adj Close\"].min()) / stocks_daily_4[\"AAPL\"][\"Adj Close\"].max()).round(2)\n",
        "MSFT_range_ratio = ((stocks_daily_4[\"MSFT\"][\"Adj Close\"].max() - stocks_daily_4[\"MSFT\"][\"Adj Close\"].min()) / stocks_daily_4[\"MSFT\"][\"Adj Close\"].max()).round(2)\n",
        "GOOG_range_ratio = ((stocks_daily_4[\"GOOG\"][\"Adj Close\"].max() - stocks_daily_4[\"GOOG\"][\"Adj Close\"].min()) / stocks_daily_4[\"GOOG\"][\"Adj Close\"].max()).round(2)\n",
        "JPM_range_ratio = ((stocks_daily_4[\"JPM\"][\"Adj Close\"].max() - stocks_daily_4[\"JPM\"][\"Adj Close\"].min()) / stocks_daily_4[\"JPM\"][\"Adj Close\"].max()).round(2)\n",
        "\n",
        "max(SR_range_ratio, BRKB_range_ratio, AAPL_range_ratio, MSFT_range_ratio, GOOG_range_ratio, JPM_range_ratio)"
      ],
      "metadata": {
        "id": "lQF2w8h3XNwM",
        "outputId": "614cae9c-25b3-4dee-99bc-3ec7a57cc04d",
        "colab": {
          "base_uri": "https://localhost:8080/"
        }
      },
      "execution_count": 80,
      "outputs": [
        {
          "output_type": "stream",
          "name": "stderr",
          "text": [
            "[*********************100%%**********************]  6 of 6 completed\n"
          ]
        },
        {
          "output_type": "execute_result",
          "data": {
            "text/plain": [
              "0.42"
            ]
          },
          "metadata": {},
          "execution_count": 80
        }
      ]
    },
    {
      "cell_type": "markdown",
      "source": [
        "# Question 5. Dividend Yield"
      ],
      "metadata": {
        "id": "_jKfzKy3wHaY"
      }
    },
    {
      "cell_type": "code",
      "source": [
        "# Use the same list of companies (2222.SR,BRK-B, AAPL, MSFT, GOOG, JPM) and download all dividends paid in 2023.\n",
        "# Sum up all dividends paid in 2023 per company\n",
        "\n",
        "tickers = yf.Tickers('2222.SR BRK-B AAPL MSFT GOOG JPM')\n",
        "\n",
        "sum_div_2222_SR = sum(tickers.tickers['2222.SR'].dividends[(tickers.tickers['2222.SR'].dividends.index >='2023-01-01') & (tickers.tickers['2222.SR'].dividends.index <='2023-12-31')])\n",
        "sum_div_BRK_B = sum(tickers.tickers['BRK-B'].dividends[(tickers.tickers['BRK-B'].dividends.index >='2023-01-01') & (tickers.tickers['BRK-B'].dividends.index <='2023-12-31')])\n",
        "sum_div_AAPL = sum(tickers.tickers['AAPL'].dividends[(tickers.tickers['AAPL'].dividends.index >='2023-01-01') & (tickers.tickers['AAPL'].dividends.index <='2023-12-31')])\n",
        "sum_div_MSFT = sum(tickers.tickers['MSFT'].dividends[(tickers.tickers['MSFT'].dividends.index >='2023-01-01') & (tickers.tickers['MSFT'].dividends.index <='2023-12-31')])\n",
        "sum_div_GOOG = sum(tickers.tickers['GOOG'].dividends[(tickers.tickers['GOOG'].dividends.index >='2023-01-01') & (tickers.tickers['GOOG'].dividends.index <='2023-12-31')])\n",
        "sum_div_JPM = sum(tickers.tickers['JPM'].dividends[(tickers.tickers['JPM'].dividends.index >='2023-01-01') & (tickers.tickers['JPM'].dividends.index <='2023-12-31')])\n",
        "\n",
        "# Divide each value by the closing price (Adj.Close) at the last trading day of the year.\n",
        "\n",
        "div_yield_2222_SR = sum_div_2222_SR * 100 / stocks_daily_4[\"2222.SR\"][\"Adj Close\"][-2]\n",
        "div_yield_BRK_B = sum_div_BRK_B * 100 / stocks_daily_4[\"BRK-B\"][\"Adj Close\"][-1]\n",
        "div_yield_AAPL = sum_div_AAPL * 100 / stocks_daily_4[\"AAPL\"][\"Adj Close\"][-1]\n",
        "div_yield_MSFT = sum_div_MSFT * 100 / stocks_daily_4[\"MSFT\"][\"Adj Close\"][-1]\n",
        "div_yield_GOOG = sum_div_GOOG * 100 / stocks_daily_4[\"GOOG\"][\"Adj Close\"][-1]\n",
        "div_yield_JPM = sum_div_JPM * 100 / stocks_daily_4[\"JPM\"][\"Adj Close\"][-1]\n",
        "\n",
        "# Find the maximum value in % and round to 1 digit after the decimal point\n",
        "\n",
        "max(div_yield_2222_SR, div_yield_BRK_B, div_yield_AAPL, div_yield_MSFT, div_yield_GOOG, div_yield_JPM).round(1)"
      ],
      "metadata": {
        "colab": {
          "base_uri": "https://localhost:8080/"
        },
        "id": "vwiKyLZ1wFWD",
        "outputId": "71f1cd53-617f-4551-f560-a28f72751775"
      },
      "execution_count": 81,
      "outputs": [
        {
          "output_type": "execute_result",
          "data": {
            "text/plain": [
              "2.8"
            ]
          },
          "metadata": {},
          "execution_count": 81
        }
      ]
    }
  ]
}